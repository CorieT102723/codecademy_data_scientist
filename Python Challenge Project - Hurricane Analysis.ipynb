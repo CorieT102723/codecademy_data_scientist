{
 "cells": [
  {
   "cell_type": "markdown",
   "metadata": {},
   "source": [
    "# Python Dictionaries Challenge Project\n",
    "## Hurricane Analysis\n",
    "### Overview\n",
    "This project is slightly different than others you have encountered thus far on Codecademy. Instead of a step-by-step tutorial, this project contains a series of open-ended requirements which describe the project you’ll be building. There are many possible ways to correctly fulfill all of these requirements, and you should expect to use the internet, Codecademy, and other resources when you encounter a problem that you cannot easily solve.\n",
    "\n",
    "# Project Goals\n",
    "You will work to write several functions that organize and manipulate data about Category 5 Hurricanes, the strongest hurricanes as rated by their wind speed. Each one of these functions will use a number of parameters, conditionals, lists, dictionaries, string manipulation, and return statements."
   ]
  },
  {
   "cell_type": "code",
   "execution_count": 2,
   "metadata": {},
   "outputs": [],
   "source": [
    "# names of hurricanes\n",
    "names = ['Cuba I', 'San Felipe II Okeechobee', 'Bahamas', 'Cuba II', 'CubaBrownsville', 'Tampico', 'Labor Day', 'New England', 'Carol', 'Janet', 'Carla', 'Hattie', 'Beulah', 'Camille', 'Edith', 'Anita', 'David', 'Allen', 'Gilbert', 'Hugo', 'Andrew', 'Mitch', 'Isabel', 'Ivan', 'Emily', 'Katrina', 'Rita', 'Wilma', 'Dean', 'Felix', 'Matthew', 'Irma', 'Maria', 'Michael']\n",
    "\n",
    "# months of hurricanes\n",
    "months = ['October', 'September', 'September', 'November', 'August', 'September', 'September', 'September', 'September', 'September', 'September', 'October', 'September', 'August', 'September', 'September', 'August', 'August', 'September', 'September', 'August', 'October', 'September', 'September', 'July', 'August', 'September', 'October', 'August', 'September', 'October', 'September', 'September', 'October']\n",
    "\n",
    "# years of hurricanes\n",
    "years = [1924, 1928, 1932, 1932, 1933, 1933, 1935, 1938, 1953, 1955, 1961, 1961, 1967, 1969, 1971, 1977, 1979, 1980, 1988, 1989, 1992, 1998, 2003, 2004, 2005, 2005, 2005, 2005, 2007, 2007, 2016, 2017, 2017, 2018]\n",
    "\n",
    "# maximum sustained winds (mph) of hurricanes\n",
    "max_sustained_winds = [165, 160, 160, 175, 160, 160, 185, 160, 160, 175, 175, 160, 160, 175, 160, 175, 175, 190, 185, 160, 175, 180, 165, 165, 160, 175, 180, 185, 175, 175, 165, 180, 175, 160]\n",
    "\n",
    "# areas affected by each hurricane\n",
    "areas_affected = [['Central America', 'Mexico', 'Cuba', 'Florida', 'The Bahamas'], ['Lesser Antilles', 'The Bahamas', 'United States East Coast', 'Atlantic Canada'], ['The Bahamas', 'Northeastern United States'], ['Lesser Antilles', 'Jamaica', 'Cayman Islands', 'Cuba', 'The Bahamas', 'Bermuda'], ['The Bahamas', 'Cuba', 'Florida', 'Texas', 'Tamaulipas'], ['Jamaica', 'Yucatn Peninsula'], ['The Bahamas', 'Florida', 'Georgia', 'The Carolinas', 'Virginia'], ['Southeastern United States', 'Northeastern United States', 'Southwestern Quebec'], ['Bermuda', 'New England', 'Atlantic Canada'], ['Lesser Antilles', 'Central America'], ['Texas', 'Louisiana', 'Midwestern United States'], ['Central America'], ['The Caribbean', 'Mexico', 'Texas'], ['Cuba', 'United States Gulf Coast'], ['The Caribbean', 'Central America', 'Mexico', 'United States Gulf Coast'], ['Mexico'], ['The Caribbean', 'United States East coast'], ['The Caribbean', 'Yucatn Peninsula', 'Mexico', 'South Texas'], ['Jamaica', 'Venezuela', 'Central America', 'Hispaniola', 'Mexico'], ['The Caribbean', 'United States East Coast'], ['The Bahamas', 'Florida', 'United States Gulf Coast'], ['Central America', 'Yucatn Peninsula', 'South Florida'], ['Greater Antilles', 'Bahamas', 'Eastern United States', 'Ontario'], ['The Caribbean', 'Venezuela', 'United States Gulf Coast'], ['Windward Islands', 'Jamaica', 'Mexico', 'Texas'], ['Bahamas', 'United States Gulf Coast'], ['Cuba', 'United States Gulf Coast'], ['Greater Antilles', 'Central America', 'Florida'], ['The Caribbean', 'Central America'], ['Nicaragua', 'Honduras'], ['Antilles', 'Venezuela', 'Colombia', 'United States East Coast', 'Atlantic Canada'], ['Cape Verde', 'The Caribbean', 'British Virgin Islands', 'U.S. Virgin Islands', 'Cuba', 'Florida'], ['Lesser Antilles', 'Virgin Islands', 'Puerto Rico', 'Dominican Republic', 'Turks and Caicos Islands'], ['Central America', 'United States Gulf Coast (especially Florida Panhandle)']]\n",
    "\n",
    "# damages (USD($)) of hurricanes\n",
    "damages = ['Damages not recorded', '100M', 'Damages not recorded', '40M', '27.9M', '5M', 'Damages not recorded', '306M', '2M', '65.8M', '326M', '60.3M', '208M', '1.42B', '25.4M', 'Damages not recorded', '1.54B', '1.24B', '7.1B', '10B', '26.5B', '6.2B', '5.37B', '23.3B', '1.01B', '125B', '12B', '29.4B', '1.76B', '720M', '15.1B', '64.8B', '91.6B', '25.1B']\n",
    "\n",
    "# deaths for each hurricane\n",
    "deaths = [90,4000,16,3103,179,184,408,682,5,1023,43,319,688,259,37,11,2068,269,318,107,65,19325,51,124,17,1836,125,87,45,133,603,138,3057,74]"
   ]
  },
  {
   "cell_type": "markdown",
   "metadata": {},
   "source": [
    "#### Hurricanes, also known as cyclones or typhoons, are one of the most powerful forces of nature on Earth. Due to climate change caused by human activity, the number and intensity of hurricanes has risen, calling for better preparation by the many communities that are devastated by them. As a concerned environmentalist, you want to look at data about the most powerful hurricanes that have occurred.\n",
    "\n",
    "#### Begin by looking at the damages list. The list contains strings representing the total cost in USD($) caused by 34 category 5 hurricanes (wind speeds ≥ 157 mph (252 km/h )) in the Atlantic region. For some of the hurricanes, damage data was not recorded (\"Damages not recorded\"), while the rest are written in the format \"Prefix-B/M\", where B stands for billions (1000000000) and M stands for millions (1000000).\n",
    "\n",
    "1. Write a function that returns a new list of updated damages where the recorded data is converted to float values and the missing data is retained as \"Damages not recorded\".\n",
    "\n",
    "Test your function with the data stored in damages."
   ]
  },
  {
   "cell_type": "code",
   "execution_count": null,
   "metadata": {},
   "outputs": [],
   "source": [
    "# 1\n",
    "# Update Recorded Damages\n",
    "conversion = {\"M\": 1000000,\n",
    "              \"B\": 1000000000}\n",
    "def update_damages(cost):\n",
    "  updated_damages = [] \n",
    "  for x in cost:\n",
    "    if x == \"Damages not recorded\":\n",
    "        updated_damages.append(x)\n",
    "    elif x.endswith(\"B\"):\n",
    "        x = x.strip(\"B\")\n",
    "        x = float(x) * (10**7)\n",
    "        updated_damages.append(x)\n",
    "    elif x.endswith(\"M\"):\n",
    "        x = x.strip(\"M\")\n",
    "        x = float(x) * (10**6)\n",
    "        updated_damages.append(x)\n",
    "  return updated_damages\n",
    "damages_float = update_damages(damages)\n",
    "# test function by updating damages\n",
    "#print(update_damages(damages))"
   ]
  },
  {
   "cell_type": "markdown",
   "metadata": {},
   "source": [
    "Additional data collected on the 34 strongest Atlantic hurricanes are provided in a series of lists. The data includes:\n",
    "\n",
    "names: names of the hurricanes\n",
    "months: months in which the hurricanes occurred\n",
    "years: years in which the hurricanes occurred\n",
    "max_sustained_winds: maximum sustained winds (miles per hour) of the hurricanes\n",
    "areas_affected: list of different areas affected by each of the hurricanes\n",
    "deaths: total number of deaths caused by each of the hurricanes\n",
    "\n",
    "The data is organized such that the data at each index, from 0 to 33, corresponds to the same hurricane.\n",
    "\n",
    "For example, names[0] yields the “Cuba I” hurricane, which occurred in months[0] (October) years[0] (1924).\n",
    "\n",
    "2. Write a function that constructs a dictionary made out of the lists, where the keys of the dictionary are the names of the hurricanes, and the values are dictionaries themselves containing a key for each piece of data (Name, Month, Year,Max Sustained Wind, Areas Affected, Damage, Death) about the hurricane.\n",
    "\n",
    "Thus the key \"Cuba I\" would have the value: {'Name': 'Cuba I', 'Month': 'October', 'Year': 1924, 'Max Sustained Wind': 165, 'Areas Affected': ['Central America', 'Mexico', 'Cuba', 'Florida', 'The Bahamas'], 'Damage': 'Damages not recorded', 'Deaths': 90}.\n",
    "\n",
    "Test your function on the lists of data provided."
   ]
  },
  {
   "cell_type": "code",
   "execution_count": null,
   "metadata": {},
   "outputs": [],
   "source": [
    "# 2 \n",
    "# Create and view the hurricanes dictionary\n",
    "def hurricane_info():\n",
    "  hurricanes_by_name = {}\n",
    "  for x in names:\n",
    "    index = names.index(x)\n",
    "    hurricane_data = {\"Name\": names[index], \"Month\": months[index], \"Year\": years[index], \"Max Sustained Winds\": max_sustained_winds[index], \"Areas Affected\": areas_affected[index], \"Damage\": damages[index], \"Deaths\": deaths[index]}\n",
    "    hurricanes_by_name[x] = hurricane_data\n",
    "  return hurricanes_by_name\n",
    "hurricanes = hurricane_info()\n",
    "#print(hurricanes)\n",
    "\n",
    "# Create a Table (sort of)\n",
    "for name, data in hurricanes.items():\n",
    "  #print(name + \"    \" + data[\"Month\"] + \"   \" + str(data[\"Year\"]) + \"   \" + str(data[\"Max Sustained Winds\"]) + \"   \" + data[\"Damage\"] + \"   \" + str(data[\"Deaths\"]))"
   ]
  },
  {
   "cell_type": "markdown",
   "metadata": {},
   "source": [
    "In addition to organizing the hurricanes in a dictionary with names as the key, you want to be able to organize the hurricanes by year.\n",
    "\n",
    "3. Write a function that converts the current dictionary of hurricanes to a new dictionary, where the keys are years and the values are lists containing a dictionary for each hurricane that occurred in that year.\n",
    "\n",
    "For example, the key 1932 would yield the value: [{'Name': 'Bahamas', 'Month': 'September', 'Year': 1932, 'Max Sustained Wind': 160, 'Areas Affected': ['The Bahamas', 'Northeastern United States'], 'Damage': 'Damages not recorded', 'Deaths': 16}, {'Name': 'Cuba II', 'Month': 'November', 'Year': 1932, 'Max Sustained Wind': 175, 'Areas Affected': ['Lesser Antilles', 'Jamaica', 'Cayman Islands', 'Cuba', 'The Bahamas', 'Bermuda'], 'Damage': 40000000.0, 'Deaths': 3103}].\n",
    "\n",
    "Test your function on your hurricane dictionary."
   ]
  },
  {
   "cell_type": "code",
   "execution_count": null,
   "metadata": {},
   "outputs": [],
   "source": [
    "# 3\n",
    "# create a new dictionary of hurricanes with year and key\n",
    "hurricanes_by_year = {}  \n",
    "for x in range(len(years)):\n",
    "  new_hurricane_data = {}\n",
    "  new_hurricane_data.update({years[x]: {\"Name\": names[x], \"Month\": months[x], \"Year\": years[x], \"Max Sustained Winds\": max_sustained_winds[x], \"Areas Affected\": areas_affected[x], \"Damage\": damages[x], \"Deaths\": deaths[x]}})\n",
    "  hurricanes_by_year.update(new_hurricane_data)\n",
    "#print(hurricanes_by_year)\n",
    "# Organizing by Year\n",
    "for key in sorted(hurricanes_by_year.keys()):\n",
    "  #print('{}: {}'.format(key, hurricanes_by_year[key]))"
   ]
  },
  {
   "cell_type": "markdown",
   "metadata": {},
   "source": [
    "You believe that knowing how often each of the areas of the Atlantic are affected by these strong hurricanes is important for making preparations for future hurricanes.\n",
    "\n",
    "4. Write a function that counts how often each area is listed as an affected area of a hurricane. Store and return the results in a dictionary where the keys are the affected areas and the values are counts of how many times the areas were affected.\n",
    "\n",
    "Test your function on your hurricane dictionary."
   ]
  },
  {
   "cell_type": "code",
   "execution_count": null,
   "metadata": {},
   "outputs": [],
   "source": [
    "# 4\n",
    "# Counting Damaged Areas\n",
    "\n",
    "# create dictionary of areas to store the number of hurricanes involved in\n",
    "areas_only = []\n",
    "for area in areas_affected:\n",
    "    for x in area:\n",
    "      areas_only.append(x)     \n",
    "#print(areas_only)\n",
    "area_counts = []\n",
    "for x in areas_only:\n",
    "    area_counts.append(areas_only.count(x))\n",
    "#print(area_counts)\n",
    "affected_counts = {}\n",
    "merged_data = {key:value for key, value in zip(areas_only, area_counts)}\n",
    "affected_counts.update(merged_data)\n",
    "#print(affected_counts)"
   ]
  },
  {
   "cell_type": "markdown",
   "metadata": {},
   "source": [
    "5. Write a function that finds the area affected by the most hurricanes, and how often it was hit.\n",
    "\n",
    "Test your function on your affected area dictionary."
   ]
  },
  {
   "cell_type": "code",
   "execution_count": null,
   "metadata": {},
   "outputs": [],
   "source": [
    "# 5 \n",
    "# Calculating Maximum Hurricane Count\n",
    "\n",
    "# find most frequently affected area and the number of hurricanes involved in\n",
    "area_freq = \"\"\n",
    "area_freq = ([x for x in affected_counts.keys() if affected_counts[x] == max(affected_counts.values())][0])\n",
    "#print('{} is the most affected area. It has been affected by {} hurricanes.'.format(area_freq, affected_counts[area_freq]))"
   ]
  },
  {
   "cell_type": "markdown",
   "metadata": {},
   "source": [
    "6. Write a function that finds the hurricane that caused the greatest number of deaths, and how many deaths it caused.\n",
    "\n",
    "Test your function on your hurricane dictionary."
   ]
  },
  {
   "cell_type": "code",
   "execution_count": null,
   "metadata": {},
   "outputs": [],
   "source": [
    "# 6\n",
    "# Calculating the Deadliest Hurricane\n",
    "\n",
    "# find highest mortality hurricane and the number of deaths\n",
    "hurricane_deaths = {}\n",
    "hurricane_deaths.update({key:value for key, value in zip(names, deaths)})     \n",
    "most_deaths = \"\"\n",
    "most_deaths = ([x for x in hurricane_deaths.keys() if hurricane_deaths[x] == max(hurricane_deaths.values())][0])\n",
    "#print(\"Hurricane {} is the deadliest hurricane with {} deaths.\".format(most_deaths, hurricane_deaths[most_deaths]))"
   ]
  },
  {
   "cell_type": "markdown",
   "metadata": {},
   "source": [
    "Just as hurricanes are rated by their windspeed, you want to try rating hurricanes based on other metrics.\n",
    "\n",
    "7. Write a function that rates hurricanes on a mortality scale according to the following ratings, where the key is the rating and the value is the upper bound of deaths for that rating.\n",
    "\n",
    "mortality_scale = {0: 0,\n",
    "                   1: 100,\n",
    "                   2: 500,\n",
    "                   3: 1000,\n",
    "                   4: 10000}\n",
    "For example, a hurricane with a 1 mortality rating would have resulted in greater than 0 but less than or equal to 100 deaths. A hurricane with a 5 mortality rating would have resulted in greater than 10000 deaths.\n",
    "\n",
    "Store the hurricanes in a new dictionary where the keys are mortality ratings and the values are lists containing a dictionary for each hurricane that falls into that mortality rating.\n",
    "\n",
    "Test your function on your hurricane dictionary."
   ]
  },
  {
   "cell_type": "code",
   "execution_count": null,
   "metadata": {},
   "outputs": [],
   "source": [
    "# 7\n",
    "# Rating Hurricanes by Mortality\n",
    "\n",
    "# categorize hurricanes in new dictionary with mortality severity as key\n",
    "mortality_scale = {0: 0, 1: 100, 2: 500, 3: 1000, 4: 10000}\n",
    "death_ratings = {0: [], 1: [], 2: [], 3: [], 4: [], 5: []}\n",
    "#print(deaths)\n",
    "for name in hurricanes:\n",
    "    x = hurricanes[name][\"Deaths\"]\n",
    "    if x == 0:\n",
    "      death_ratings[0].append(name)\n",
    "    elif 0 < x <= 100:\n",
    "      death_ratings[1].append(name)\n",
    "    elif x <= 500 and x > 100:\n",
    "      death_ratings[2].append(name)\n",
    "    elif x <= 1000 and x > 500:\n",
    "      death_ratings[3].append(name) \n",
    "    elif x <= 10000 and x > 1000:\n",
    "      death_ratings[4].append(name)\n",
    "    elif x > 10000:\n",
    "      death_ratings[5].append(name)\n",
    "#print(death_ratings)"
   ]
  },
  {
   "cell_type": "markdown",
   "metadata": {},
   "source": [
    "8. Write a function that finds the hurricane that caused the greatest damage, and how costly it was.\n",
    "\n",
    "Test your function on your hurricane dictionary."
   ]
  },
  {
   "cell_type": "code",
   "execution_count": null,
   "metadata": {},
   "outputs": [],
   "source": [
    "# 8 Calculating Hurricane Maximum Damage\n",
    "\n",
    "# find highest damage inducing hurricane and its total cost\n",
    "updates_damages = []\n",
    "for float in damages_float:\n",
    "    if float == \"Damages not recorded\":\n",
    "        continue\n",
    "    else:\n",
    "        updates_damages.append(int(float))\n",
    "#print(updates_damages)\n",
    "updates_names = []\n",
    "for name in hurricanes:\n",
    "    if hurricanes[name][\"Damage\"] == \"Damages not recorded\":\n",
    "        continue\n",
    "    else:\n",
    "        updates_names.append(name)\n",
    "#print(updates_names)\n",
    "damaging_canes = {}\n",
    "merged_data2 = {key:value for key, value in zip(updates_names, updates_damages)}\n",
    "damaging_canes.update(merged_data2)\n",
    "#print(damaging_canes)\n",
    "most_damage = \"\"\n",
    "most_damage = ([x for x in damaging_canes.keys() if damaging_canes[x] == max(damaging_canes.values())][0])\n",
    "#print('{} was the costliest hurricane incurring {} dollars in damages.'.format(most_damage, damaging_canes[most_damage]))\n",
    "#for key in sorted(damaging_canes.keys()):\n",
    "    #print('{}: {}'.format(key, damaging_canes[key]))\n",
    "#this = list(damaging_canes.items())\n",
    "#l = list(this)\n",
    "#m = sorted(l, key=lambda x: x[1])\n",
    "#print(m)"
   ]
  },
  {
   "cell_type": "markdown",
   "metadata": {},
   "source": [
    "Lastly, you want to rate hurricanes according to how much damage they cause.\n",
    "\n",
    "9. Write a function that rates hurricanes on a damage scale according to the following ratings, where the key is the rating and the value is the upper bound of damage for that rating.\n",
    "\n",
    "For example, a hurricane with a 1 damage rating would have resulted in damages greater than 0 USD but less than or equal to 100000000 USD. A hurricane with a 5 damage rating would have resulted in damages greater than 50000000000 USD (talk about a lot of money).\n",
    "\n",
    "Store the hurricanes in a new dictionary where the keys are damage ratings and the values are lists containing a dictionary for each hurricane that falls into that damage rating.\n",
    "\n",
    "Test your function on your hurricane dictionary."
   ]
  },
  {
   "cell_type": "code",
   "execution_count": null,
   "metadata": {},
   "outputs": [],
   "source": [
    "# 9\n",
    "# Rating Hurricanes by Damage\n",
    "damage_scale = {0: 0,\n",
    "                1: 100000000,\n",
    "                2: 1000000000,\n",
    "                3: 10000000000,\n",
    "                4: 50000000000}\n",
    "  \n",
    "# categorize hurricanes in new dictionary with damage severity as key\n",
    "damages2 = []\n",
    "for float in damages_float:\n",
    "    if float == \"Damages not recorded\":\n",
    "        damages2.append(float)\n",
    "    else:\n",
    "        damages2.append(int(float))\n",
    "#print(damages2)\n",
    "def dam_canes():\n",
    "  hurricanes_by_damage = {}  \n",
    "  for item in names:\n",
    "    index = names.index(item)\n",
    "    damage_data = {\"Name\": names[index], \"Damage\": damages2[index]}\n",
    "    hurricanes_by_damage[item] = damage_data\n",
    "  return hurricanes_by_damage\n",
    "canes_dam = dam_canes()\n",
    "#print(canes_dam)\n",
    "\n",
    "damage_ratings = {0: [], 1: [], 2: [], 3: [], 4: [], 5: [], None: []}\n",
    "for name in canes_dam:\n",
    "    x = canes_dam[name][\"Damage\"]\n",
    "    if x == \"Damages not recorded\":\n",
    "      damage_ratings[None].append(name)\n",
    "      continue\n",
    "    elif x == 0:\n",
    "      damage_ratings[0].append(name)\n",
    "    elif 0 < x <= 100000000:\n",
    "      damage_ratings[1].append(name)\n",
    "    elif x <= 1000000000 and x > 100000000:\n",
    "      damage_ratings[2].append(name)\n",
    "    elif x <= 10000000000 and x > 1000000000:\n",
    "      damage_ratings[3].append(name) \n",
    "    elif x <= 50000000000 and x > 10000000000:\n",
    "      damage_ratings[4].append(name)\n",
    "    elif x > 50000000000:\n",
    "      damage_ratings[5].append(name)\n",
    "#print(damage_ratings)"
   ]
  },
  {
   "cell_type": "code",
   "execution_count": null,
   "metadata": {},
   "outputs": [],
   "source": []
  },
  {
   "cell_type": "code",
   "execution_count": null,
   "metadata": {},
   "outputs": [],
   "source": []
  }
 ],
 "metadata": {
  "kernelspec": {
   "display_name": "Python 3",
   "language": "python",
   "name": "python3"
  },
  "language_info": {
   "codemirror_mode": {
    "name": "ipython",
    "version": 3
   },
   "file_extension": ".py",
   "mimetype": "text/x-python",
   "name": "python",
   "nbconvert_exporter": "python",
   "pygments_lexer": "ipython3",
   "version": "3.8.5"
  }
 },
 "nbformat": 4,
 "nbformat_minor": 4
}
