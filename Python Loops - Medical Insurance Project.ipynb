{
 "cells": [
  {
   "cell_type": "markdown",
   "metadata": {},
   "source": [
    "# Python Loops: Medical Insurance Project\n",
    "You are interested in analyzing medical insurance cost data efficiently without writing repetitive code.\n",
    "\n",
    "In this project, you will use your new knowledge of Python loops to iterate through and analyze medical insurance cost data."
   ]
  },
  {
   "cell_type": "markdown",
   "metadata": {},
   "source": [
    "### 1. First, let’s take a look at the three lists in script.py:\n",
    "\n",
    "* names stores the names of seven individuals.\n",
    "* estimated_insurance_costs stores the estimated medical insurance costs for the individuals.\n",
    "* actual_insurance_costs stores the actual insurance costs paid by the individuals.\n",
    "\n",
    "We want to calculate the average insurance cost each person paid. We’ll start by adding up all of the insurance costs.\n",
    "\n",
    "Create a variable total_cost and initialize it to 0."
   ]
  },
  {
   "cell_type": "code",
   "execution_count": 13,
   "metadata": {},
   "outputs": [
    {
     "name": "stdout",
     "output_type": "stream",
     "text": [
      "1100.0\n",
      "2200.0\n",
      "3300.0\n",
      "4400.0\n",
      "5500.0\n",
      "6600.0\n",
      "7700.0\n",
      "Average Insurance Cost: 4400.0 dollars.\n"
     ]
    }
   ],
   "source": [
    "names = [\"Judith\", \"Abel\", \"Tyson\", \"Martha\", \"Beverley\", \"David\", \"Anabel\"]\n",
    "estimated_insurance_costs = [1000.0, 2000.0, 3000.0, 4000.0, 5000.0, 6000.0, 7000.0]\n",
    "actual_insurance_costs = [1100.0, 2200.0, 3300.0, 4400.0, 5500.0, 6600.0, 7700.0]\n",
    "\n",
    "# Add your code here\n",
    "index = 0\n",
    "while index < len(actual_insurance_costs):\n",
    "  print(actual_insurance_costs[index])\n",
    "  index += 1\n",
    "total_cost = sum(actual_insurance_costs)\n",
    "average_cost = total_cost/len(actual_insurance_costs)\n",
    "print(\"Average Insurance Cost: \" + str(average_cost) + \" dollars.\")"
   ]
  },
  {
   "cell_type": "markdown",
   "metadata": {},
   "source": [
    "For each individual in names, we want to determine whether their insurance cost is above or below average.\n",
    "\n",
    "Write a for loop with variable i that goes from 0 to len(names)."
   ]
  },
  {
   "cell_type": "markdown",
   "metadata": {},
   "source": [
    "Inside of the for loop, do the following:\n",
    "\n",
    "Create a variable name, which stores names[i].\n",
    "Create a variable insurance_cost, which stores actual_insurance_costs[i].\n",
    "Print out the insurance cost for each individual, with the following message:\n",
    "The insurance cost for <name> is <insurance_cost> dollars."
   ]
  },
  {
   "cell_type": "code",
   "execution_count": 14,
   "metadata": {},
   "outputs": [
    {
     "name": "stdout",
     "output_type": "stream",
     "text": [
      "The insurance cost for Judith is 1100.0 dollars.\n",
      "The insurance cost for Judith is 3300.0 dollars below average.\n",
      "The insurance cost for Abel is 2200.0 dollars.\n",
      "The insurance cost for Abel is 2200.0 dollars below average.\n",
      "The insurance cost for Tyson is 3300.0 dollars.\n",
      "The insurance cost for Tyson is 1100.0 dollars below average.\n",
      "The insurance cost for Martha is 4400.0 dollars.\n",
      "The insurance cost for Martha is equal to the average.\n",
      "The insurance cost for Beverley is 5500.0 dollars.\n",
      "The insurance cost for Beverley is 1100.0 dollars above average.\n",
      "The insurance cost for David is 6600.0 dollars.\n",
      "The insurance cost for David is 2200.0 dollars above average.\n",
      "The insurance cost for Anabel is 7700.0 dollars.\n",
      "The insurance cost for Anabel is 3300.0 dollars above average.\n"
     ]
    }
   ],
   "source": [
    "for i in range(len(names)):\n",
    "  name = names[i]\n",
    "  insurance_cost = actual_insurance_costs[i]\n",
    "  print(\"The insurance cost for \" + name + \" is \" + str(insurance_cost) + \" dollars.\")\n",
    "\n",
    "  if insurance_cost > average_cost:\n",
    "    print(\"The insurance cost for \" + name + \" is \" + str(insurance_cost - average_cost) + \" dollars above average.\")\n",
    "  elif insurance_cost < average_cost:\n",
    "    print(\"The insurance cost for \" + name + \" is \" + str(average_cost - insurance_cost) + \" dollars below average.\")\n",
    "  else:\n",
    "    print(\"The insurance cost for \" + name + \" is equal to the average.\")"
   ]
  },
  {
   "cell_type": "code",
   "execution_count": 15,
   "metadata": {},
   "outputs": [
    {
     "name": "stdout",
     "output_type": "stream",
     "text": [
      "[1000.0, 2000.0, 3000.0, 4000.0, 5000.0, 6000.0, 7000.0]\n"
     ]
    }
   ],
   "source": [
    "updated_estimated_costs = [x*(11//10) for x in estimated_insurance_costs]\n",
    "print(updated_estimated_costs)"
   ]
  },
  {
   "cell_type": "markdown",
   "metadata": {},
   "source": [
    "### Extra Practice"
   ]
  },
  {
   "cell_type": "markdown",
   "metadata": {},
   "source": [
    "* Convert the first for loop in the code to a while loop.\n",
    "    * Original code:\n",
    "    ###### for insurance_cost in actual_insurance_costs:\n",
    "    ###### total_cost += insurance_cost\n",
    "* Modify the second for loop so that it also calculates how far above or below the average the estimated insurance cost is.\n",
    "    * Original code:\n",
    "    ###### for i in range(len(names)):\n",
    "    ###### name = names[i]\n",
    "    ###### insurance_cost = actual_insurance_costs[i]\n",
    "    ###### print(\"The insurance cost for \" + name + \" is \" + str(insurance_cost) + \" dollars.\")\n",
    "    \n",
    "    ###### if insurance_cost > average_cost:\n",
    "    ###### print(\"The insurance cost for \" + name + \" is above average.\")\n",
    "    ###### elif insurance_cost < average_cost:\n",
    "    ###### print(\"The insurance cost for \" + name + \" is below average.\")\n",
    "    ###### else:\n",
    "    ###### print(\"The insurance cost for \" + name + \" is equal to the average.\")"
   ]
  },
  {
   "cell_type": "code",
   "execution_count": null,
   "metadata": {},
   "outputs": [],
   "source": []
  }
 ],
 "metadata": {
  "kernelspec": {
   "display_name": "Python 3",
   "language": "python",
   "name": "python3"
  },
  "language_info": {
   "codemirror_mode": {
    "name": "ipython",
    "version": 3
   },
   "file_extension": ".py",
   "mimetype": "text/x-python",
   "name": "python",
   "nbconvert_exporter": "python",
   "pygments_lexer": "ipython3",
   "version": "3.8.5"
  }
 },
 "nbformat": 4,
 "nbformat_minor": 4
}
