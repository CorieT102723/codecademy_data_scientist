{
 "cells": [
  {
   "cell_type": "markdown",
   "metadata": {},
   "source": [
    "# Classes\n",
    "\n",
    "## Types\n",
    "\n",
    "Python equips us with many different ways to store data. A float is a different kind of number from an int, and we store different data in a list than we do in a dict. These are known as different types. We can check the type of a Python variable using the type() function."
   ]
  },
  {
   "cell_type": "code",
   "execution_count": 1,
   "metadata": {},
   "outputs": [
    {
     "name": "stdout",
     "output_type": "stream",
     "text": [
      "<class 'int'>\n",
      "<class 'dict'>\n",
      "<class 'list'>\n"
     ]
    }
   ],
   "source": [
    "# type() function checks the type of a variable which determines what you can do with it\n",
    "\n",
    "print(type(5))\n",
    "my_dict = {}\n",
    "print(type(my_dict))\n",
    "my_list = []\n",
    "print(type(my_list))"
   ]
  },
  {
   "cell_type": "markdown",
   "metadata": {},
   "source": [
    "Above, we defined two variables, and checked the type of these two variables. A variable’s type determines what you can do with it and how you can use it. You can’t .get() something from an integer, just as you can’t add two dictionaries together using +. This is because those operations are defined at the type level."
   ]
  },
  {
   "cell_type": "markdown",
   "metadata": {},
   "source": [
    "## Class\n",
    "A class is a template for a data type. It describes the kinds of information that class will hold and how a programmer will interact with that data. Define a class using the class keyword. PEP 8 Style Guide for Python Code recommends capitalizing the names of classes to make them easier to identify.\n",
    "\n",
    "class CoolClass:\n",
    "  pass\n",
    "  \n",
    "In the above example we created a class and named it CoolClass. We used the pass keyword in Python to indicate that the body of the class was intentionally left blank so we don’t cause an IndentationError. We’ll learn about all the things we can put in the body of a class in the next few exercises."
   ]
  },
  {
   "cell_type": "markdown",
   "metadata": {},
   "source": [
    "## Instantiation\n",
    "\n",
    "A class doesn’t accomplish anything simply by being defined. A class must be instantiated. In other words, we must create an instance of the class, in order to breathe life into the schematic.\n",
    "\n",
    "Instantiating a class looks a lot like calling a function. We would be able to create an instance of our defined CoolClass as follows:\n",
    "\n",
    "cool_instance = CoolClass()\n",
    "\n",
    "Above, we created an object by adding parentheses to the name of the class. We then assigned that new instance to the variable cool_instance for safe-keeping so we can access our instance of CoolClass at a later time."
   ]
  },
  {
   "cell_type": "markdown",
   "metadata": {},
   "source": [
    "## Object-Oriented Programming\n",
    "\n",
    "A class instance is also called an object. The pattern of defining classes and creating objects to represent the responsibilities of a program is known as Object Oriented Programming or OOP.\n",
    "\n",
    "Instantiation takes a class and turns it into an object, the type() function does the opposite of that. When called with an object, it returns the class that the object is an instance of.\n",
    "\n",
    "print(type(cool_instance))\n",
    "<class '__main__.CoolClass'>\n",
    "\n",
    "We then print out the type() of cool_instance and it shows us that this object is of type __main__.CoolClass.\n",
    "\n",
    "In Python __main__ means “this current file that we’re running” and so one could read the output from type() to mean “the class CoolClass that was defined here, in the script you’re currently running.”"
   ]
  },
  {
   "cell_type": "code",
   "execution_count": 2,
   "metadata": {},
   "outputs": [
    {
     "name": "stdout",
     "output_type": "stream",
     "text": [
      "<class '__main__.Facade'>\n"
     ]
    }
   ],
   "source": [
    "class Facade:\n",
    "  pass\n",
    "\n",
    "facade_1 = Facade()\n",
    "facade_1_type = type(facade_1)\n",
    "print(facade_1_type)"
   ]
  },
  {
   "cell_type": "markdown",
   "metadata": {},
   "source": [
    "## Class Variables\n",
    "\n",
    "When we want the same data to be available to every instance of a class we use a class variable. A class variable is a variable that’s the same for every instance of the class.\n",
    "\n",
    "You can define a class variable by including it in the indented part of your class definition, and you can access all of an object’s class variables with object.variable syntax.\n",
    "\n",
    "class Musician:\n",
    "  title = \"Rockstar\"\n",
    " \n",
    "drummer = Musician()\n",
    "\n",
    "print(drummer.title)\n",
    "\n",
    "\"Rockstar\"\n",
    "\n",
    "Above we defined the class Musician, then instantiated drummer to be an object of type Musician. We then printed out the drummer’s .title attribute, which is a class variable that we defined as the string “Rockstar”.\n",
    "\n",
    "If we defined another musician, like guitarist = Musician() they would have the same .title attribute."
   ]
  },
  {
   "cell_type": "markdown",
   "metadata": {},
   "source": [
    "## Methods\n",
    "\n",
    "Methods are functions that are defined as part of a class. The first argument in a method is always the object that is calling the method. Convention recommends that we name this first argument self. Methods always have at least this one argument.\n",
    "\n",
    "We define methods similarly to functions, except that they are indented to be part of the class.\n",
    "\n",
    "class Dog:\n",
    "  dog_time_dilation = 7\n",
    " \n",
    "  def time_explanation(self):\n",
    "    \n",
    "    print(\"Dogs experience {} years for every 1 human year.\".format(self.dog_time_dilation))\n",
    " \n",
    "pipi_pitbull = Dog()\n",
    "pipi_pitbull.time_explanation()\n",
    "#Prints \"Dogs experience 7 years for every 1 human year.\"\n",
    "\n",
    "Above we created a Dog class with a time_explanation method that takes one argument, self, which refers to the object calling the function. We created a Dog named pipi_pitbull and called the .time_explanation() method on our new object for Pipi.\n",
    "\n",
    "Notice we didn’t pass any arguments when we called .time_explanation(), but were able to refer to self in the function body. When you call a method it automatically passes the object calling the method as the first argument."
   ]
  },
  {
   "cell_type": "markdown",
   "metadata": {},
   "source": [
    "## Methods with Arguments\n",
    "Methods can also take more arguments than just self:\n",
    "\n",
    "Below we defined a DistanceConverter class, instantiated it, and used it to convert 5 miles into kilometers. Notice again that even though how_many_kms takes two arguments in its definition, we only pass miles, because self is implicitly passed (and refers to the object converter)."
   ]
  },
  {
   "cell_type": "code",
   "execution_count": 3,
   "metadata": {},
   "outputs": [
    {
     "name": "stdout",
     "output_type": "stream",
     "text": [
      "8.045\n"
     ]
    }
   ],
   "source": [
    "class DistanceConverter:\n",
    "  kms_in_a_mile = 1.609\n",
    "  def how_many_kms(self, miles):\n",
    "    return miles * self.kms_in_a_mile\n",
    " \n",
    "converter = DistanceConverter()\n",
    "kms_in_5_miles = converter.how_many_kms(5)\n",
    "print(kms_in_5_miles)"
   ]
  },
  {
   "cell_type": "code",
   "execution_count": 4,
   "metadata": {},
   "outputs": [
    {
     "name": "stdout",
     "output_type": "stream",
     "text": [
      "113.04 1017.36 103095306.0\n"
     ]
    }
   ],
   "source": [
    "class Circle:\n",
    "  pi = 3.14\n",
    "  def area(self, radius):\n",
    "    return self.pi * radius ** 2\n",
    "circle = Circle()\n",
    "pizza_area = circle.area(12/2)\n",
    "teaching_table_area = circle.area(36/2)\n",
    "round_room_area = circle.area(11460/2)\n",
    "print(pizza_area, teaching_table_area, round_room_area)"
   ]
  },
  {
   "cell_type": "markdown",
   "metadata": {},
   "source": [
    "## Constructors\n",
    "There are several methods that we can define in a Python class that have special behavior. These methods are sometimes called “magic,” because they behave differently from regular methods. Another popular term is dunder methods, so-named because they have two underscores (double-underscore abbreviated to “dunder”) on either side of them.\n",
    "\n",
    "The first dunder method we’re going to use is the __init__() method (note the two underscores before and after the word “init”). This method is used to initialize a newly created object. It is called every time the class is instantiated.\n",
    "\n",
    "Methods that are used to prepare an object being instantiated are called constructors. The word “constructor” is used to describe similar features in other object-oriented programming languages but programmers who refer to a constructor in Python are usually talking about the __init__() method.\n",
    "\n",
    "\n",
    "Below we created a class called Shouter and every time we create an instance of Shouter the program prints out a shout. Don’t worry, this doesn’t hurt the computer at all."
   ]
  },
  {
   "cell_type": "code",
   "execution_count": 5,
   "metadata": {},
   "outputs": [
    {
     "name": "stdout",
     "output_type": "stream",
     "text": [
      "HELLO?!\n",
      "HELLO?!\n"
     ]
    }
   ],
   "source": [
    "class Shouter:\n",
    "  def __init__(self):\n",
    "    print(\"HELLO?!\")\n",
    " \n",
    "shout1 = Shouter() \n",
    "shout2 = Shouter()"
   ]
  },
  {
   "cell_type": "markdown",
   "metadata": {},
   "source": [
    "Pay careful attention to the instantiation syntax we use. Shouter() looks a lot like a function call, doesn’t it? If it’s a function, can we pass parameters to it? We absolutely can, and those parameters will be received by the __init__() method.\n",
    "\n",
    "Below we’ve updated our Shouter class to take the additional parameter phrase. When we created each of our objects we passed an argument to the constructor. The constructor takes the argument phrase and, if it’s a string, prints out the all-caps version of phrase."
   ]
  },
  {
   "cell_type": "code",
   "execution_count": 6,
   "metadata": {},
   "outputs": [
    {
     "name": "stdout",
     "output_type": "stream",
     "text": [
      "SHOUT\n",
      "SHOUT\n",
      "LET IT ALL OUT\n"
     ]
    }
   ],
   "source": [
    "class Shouter:\n",
    "  def __init__(self, phrase):\n",
    "    # make sure phrase is a string\n",
    "    if type(phrase) == str:\n",
    " \n",
    "      # then shout it out\n",
    "      print(phrase.upper())\n",
    " \n",
    "shout1 = Shouter(\"shout\")\n",
    " \n",
    "shout2 = Shouter(\"shout\")\n",
    " \n",
    "shout3 = Shouter(\"let it all out\")"
   ]
  },
  {
   "cell_type": "code",
   "execution_count": 7,
   "metadata": {},
   "outputs": [
    {
     "name": "stdout",
     "output_type": "stream",
     "text": [
      "New circle with diameter: 36\n"
     ]
    }
   ],
   "source": [
    "class Circle:\n",
    "  pi = 3.14\n",
    "  def __init__(self, diameter):\n",
    "    print(\"New circle with diameter: {}\".format(diameter))\n",
    "\n",
    "teaching_table = Circle(36)"
   ]
  },
  {
   "cell_type": "markdown",
   "metadata": {},
   "source": [
    "## Instance Variables\n",
    "We’ve learned so far that a class is a schematic for a data type and an object is an instance of a class, but why is there such a strong need to differentiate the two if each object can only have the methods and class variables the class has? This is because each instance of a class can hold different kinds of data.\n",
    "\n",
    "The data held by an object is referred to as an instance variable. Instance variables aren’t shared by all instances of a class — they are variables that are specific to the object they are attached to.\n",
    "\n",
    "Let’s say that we have the following class definition (below). We can instantiate two different objects from this class, fake_dict1 and fake_dict2, and assign instance variables to these objects using the same attribute notation that was used for accessing class variables."
   ]
  },
  {
   "cell_type": "code",
   "execution_count": 8,
   "metadata": {},
   "outputs": [
    {
     "name": "stdout",
     "output_type": "stream",
     "text": [
      "This works! This too!\n"
     ]
    }
   ],
   "source": [
    "class FakeDict:\n",
    "  pass\n",
    "\n",
    "fake_dict1 = FakeDict()\n",
    "fake_dict2 = FakeDict()\n",
    " \n",
    "fake_dict1.fake_key = \"This works!\"\n",
    "fake_dict2.fake_key = \"This too!\"\n",
    " \n",
    "# Let's join the two strings together!\n",
    "working_string = \"{} {}\".format(fake_dict1.fake_key, fake_dict2.fake_key)\n",
    "print(working_string)"
   ]
  },
  {
   "cell_type": "code",
   "execution_count": 9,
   "metadata": {},
   "outputs": [],
   "source": [
    "class Store:\n",
    "  pass  \n",
    "  \n",
    "alternative_rocks = Store()\n",
    "isabelles_ices = Store()\n",
    "alternative_rocks.store_name = \"Alternative Rocks\"\n",
    "isabelles_ices.store_name = \"Isabelle's Ices\""
   ]
  },
  {
   "cell_type": "markdown",
   "metadata": {},
   "source": [
    "## Attribute Functions\n",
    "Instance variables and class variables are both accessed similarly in Python. This is no mistake, they are both considered attributes of an object. If we attempt to access an attribute that is neither a class variable nor an instance variable of the object Python will throw an AttributeError."
   ]
  },
  {
   "cell_type": "code",
   "execution_count": 10,
   "metadata": {},
   "outputs": [
    {
     "name": "stdout",
     "output_type": "stream",
     "text": [
      "This text gets printed!\n"
     ]
    }
   ],
   "source": [
    "class NoCustomAttributes:\n",
    "  pass\n",
    " \n",
    "attributeless = NoCustomAttributes()\n",
    " \n",
    "try:\n",
    "  attributeless.fake_attribute\n",
    "except AttributeError:\n",
    "  print(\"This text gets printed!\")"
   ]
  },
  {
   "cell_type": "markdown",
   "metadata": {},
   "source": [
    "What if we aren’t sure if an object has an attribute or not? hasattr() will return True if an object has a given attribute and False otherwise. If we want to get the actual value of the attribute, getattr() is a Python function that will return the value of a given object and attribute. In this function, we can also supply a third argument that will be the default if the object does not have the given attribute.\n",
    "\n",
    "The syntax and parameters for these functions look like this:\n",
    "\n",
    "hasattr(object, “attribute”) has two parameters:\n",
    "\n",
    "### object : the object we are testing to see if it has a certain attribute\n",
    "### attribute : name of attribute we want to see if it exists\n",
    "### getattr(object, “attribute”, default) has three parameters (one of which is optional):\n",
    "\n",
    "object : the object whose attribute we want to evaluate\n",
    "attribute : name of attribute we want to evaluate\n",
    "default : the value that is returned if the attribute does not exist (note: this parameter is optional)\n",
    "Calling those functions looks like this:"
   ]
  },
  {
   "cell_type": "code",
   "execution_count": 11,
   "metadata": {},
   "outputs": [
    {
     "data": {
      "text/plain": [
       "800"
      ]
     },
     "execution_count": 11,
     "metadata": {},
     "output_type": "execute_result"
    }
   ],
   "source": [
    "hasattr(attributeless, \"fake_attribute\")\n",
    " \n",
    "getattr(attributeless, \"other_fake_attribute\", 800)"
   ]
  },
  {
   "cell_type": "markdown",
   "metadata": {},
   "source": [
    "Above we checked if the attributeless object has the attribute fake_attribute. Since it does not, hasattr() returned False. After that, we used getattr to attempt to retrieve other_fake_attribute. Since other_fake_attribute isn’t a real attribute on attributeless, our call to getattr() returned the supplied default value 800, instead of throwing an AttributeError."
   ]
  },
  {
   "cell_type": "code",
   "execution_count": 12,
   "metadata": {},
   "outputs": [
    {
     "name": "stdout",
     "output_type": "stream",
     "text": [
      "<class 'dict'> does not have the count attribute :(\n",
      "<class 'str'> has the count attribute!\n",
      "<class 'int'> does not have the count attribute :(\n",
      "<class 'list'> has the count attribute!\n"
     ]
    }
   ],
   "source": [
    "can_we_count_it = [{'s': False}, \"sassafrass\", 18, [\"a\", \"c\", \"s\", \"d\", \"s\"]]\n",
    "for element in can_we_count_it:\n",
    "  if hasattr(element, \"count\"):\n",
    "    print(str(type(element)) + \" has the count attribute!\")\n",
    "  else:\n",
    "    print(str(type(element)) + \" does not have the count attribute :(\")"
   ]
  },
  {
   "cell_type": "markdown",
   "metadata": {},
   "source": [
    "## Self\n",
    "Since we can already use dictionaries to store key-value pairs, using objects for that purpose is not really useful. Instance variables are more powerful when you can guarantee a rigidity to the data the object is holding.\n",
    "\n",
    "This convenience is most apparent when the constructor creates the instance variables, using the arguments passed in to it. If we were creating a search engine, and we wanted to create classes for each separate entry we could return. We’d do that like this:"
   ]
  },
  {
   "cell_type": "code",
   "execution_count": 13,
   "metadata": {},
   "outputs": [
    {
     "name": "stdout",
     "output_type": "stream",
     "text": [
      "www.codecademy.com\n",
      "www.wikipedia.org\n"
     ]
    }
   ],
   "source": [
    "class SearchEngineEntry:\n",
    "  def __init__(self, url):\n",
    "    self.url = url\n",
    " \n",
    "codecademy = SearchEngineEntry(\"www.codecademy.com\")\n",
    "wikipedia = SearchEngineEntry(\"www.wikipedia.org\")\n",
    " \n",
    "print(codecademy.url)\n",
    "print(wikipedia.url)"
   ]
  },
  {
   "cell_type": "markdown",
   "metadata": {},
   "source": [
    "Since the self keyword refers to the object and not the class being called, we can define a secure method on the SearchEngineEntry class that returns the secure link to an entry."
   ]
  },
  {
   "cell_type": "code",
   "execution_count": 14,
   "metadata": {},
   "outputs": [
    {
     "name": "stdout",
     "output_type": "stream",
     "text": [
      "https://www.codecademy.com\n",
      "https://www.wikipedia.org\n"
     ]
    }
   ],
   "source": [
    "class SearchEngineEntry:\n",
    "  secure_prefix = \"https://\"\n",
    "  def __init__(self, url):\n",
    "    self.url = url\n",
    " \n",
    "  def secure(self):\n",
    "    return \"{prefix}{site}\".format(prefix=self.secure_prefix, site=self.url)\n",
    " \n",
    "codecademy = SearchEngineEntry(\"www.codecademy.com\")\n",
    "wikipedia = SearchEngineEntry(\"www.wikipedia.org\")\n",
    " \n",
    "print(codecademy.secure())\n",
    "print(wikipedia.secure())"
   ]
  },
  {
   "cell_type": "markdown",
   "metadata": {},
   "source": [
    "Above we define our secure() method to take just the one required argument, self. We access both the class variable self.secure_prefix and the instance variable self.url to return a secure URL.\n",
    "\n",
    "This is the strength of writing object-oriented programs. We can write our classes to structure the data that we need and write methods that will interact with that data in a meaningful way."
   ]
  },
  {
   "cell_type": "code",
   "execution_count": 15,
   "metadata": {},
   "outputs": [
    {
     "name": "stdout",
     "output_type": "stream",
     "text": [
      "Creating circle with diameter 12\n",
      "Creating circle with diameter 36\n",
      "Creating circle with diameter 11460\n",
      "37.68\n",
      "113.04\n",
      "35984.4\n"
     ]
    }
   ],
   "source": [
    "class Circle:\n",
    "  pi = 3.14\n",
    "  def __init__(self, diameter):\n",
    "    print(\"Creating circle with diameter {d}\".format(d=diameter))\n",
    "    # Add assignment for self.radius here:\n",
    "    self.radius = diameter / 2\n",
    "  def circumference(self):\n",
    "    return 2 * self.pi * self.radius\n",
    "medium_pizza = Circle(12)\n",
    "teaching_table = Circle(36)\n",
    "round_room = Circle(11460)\n",
    "print(medium_pizza.circumference())\n",
    "print(teaching_table.circumference())\n",
    "print(round_room.circumference())"
   ]
  },
  {
   "cell_type": "markdown",
   "metadata": {},
   "source": [
    "## Everything is an Object\n",
    "Attributes can be added to user-defined objects after instantiation, so it’s possible for an object to have some attributes that are not explicitly defined in an object’s constructor. We can use the dir() function to investigate an object’s attributes at runtime. dir() is short for directory and offers an organized presentation of object attributes."
   ]
  },
  {
   "cell_type": "code",
   "execution_count": 18,
   "metadata": {},
   "outputs": [],
   "source": [
    "class FakeDict:\n",
    "  pass\n",
    " \n",
    "fake_dict = FakeDict()\n",
    "fake_dict.attribute = \"Cool\"\n",
    " \n",
    "#dir(fake_dict)\n",
    "# Prints ['__class__', '__delattr__', '__dict__', '__dir__', '__doc__', '__eq__', '__format__', '__ge__', '__getattribute__', '__gt__', '__hash__', '__init__()', '__init_subclass__', '__le__', '__lt__', '__module__', '__ne__', '__new__', '__reduce__', '__reduce_ex__', '__repr__', '__setattr__', '__sizeof__', '__str__', '__subclasshook__', '__weakref__', 'attribute']"
   ]
  },
  {
   "cell_type": "markdown",
   "metadata": {},
   "source": [
    "That’s certainly a lot more attributes than we defined! Python automatically adds a number of attributes to all objects that get created. These internal attributes are usually indicated by double-underscores. But sure enough, attribute is in that list.\n",
    "\n",
    "Do you remember being able to use type() on Python’s native data types? This is because they are also objects in Python. Their classes are int, float, str, list, and dict. These Python classes have special syntax for their instantiation, 1, 1.0, \"hello\", [], and {} specifically. But these instances are still full-blown objects to Python."
   ]
  },
  {
   "cell_type": "code",
   "execution_count": 19,
   "metadata": {},
   "outputs": [],
   "source": [
    "fun_list = [10, \"string\", {'abc': True}]\n",
    " \n",
    "#type(fun_list)\n",
    "# Prints <class 'list'>\n",
    " \n",
    "#dir(fun_list)\n",
    "# Prints ['__add__', '__class__', [...], 'append', 'clear', 'copy', 'count', 'extend', 'index', 'insert', 'pop', 'remove', 'reverse', 'sort']"
   ]
  },
  {
   "cell_type": "markdown",
   "metadata": {},
   "source": [
    "Above we define a new list. We check it’s type and see that’s an instantiation of class list. We use dir() to explore its attributes, and it gives us a large number of internal Python dunder attributes, but, afterward, we get the usual list methods."
   ]
  },
  {
   "cell_type": "code",
   "execution_count": 20,
   "metadata": {},
   "outputs": [
    {
     "name": "stdout",
     "output_type": "stream",
     "text": [
      "['__annotations__', '__call__', '__class__', '__closure__', '__code__', '__defaults__', '__delattr__', '__dict__', '__dir__', '__doc__', '__eq__', '__format__', '__ge__', '__get__', '__getattribute__', '__globals__', '__gt__', '__hash__', '__init__', '__init_subclass__', '__kwdefaults__', '__le__', '__lt__', '__module__', '__name__', '__ne__', '__new__', '__qualname__', '__reduce__', '__reduce_ex__', '__repr__', '__setattr__', '__sizeof__', '__str__', '__subclasshook__']\n"
     ]
    }
   ],
   "source": [
    "#print(dir(5))\n",
    "def this_function_is_an_object(name, age):\n",
    "  print(\"My name is {} and I am {} years old.\".format(name, age))\n",
    "print(dir(this_function_is_an_object))"
   ]
  },
  {
   "cell_type": "markdown",
   "metadata": {},
   "source": [
    "## String Representation\n",
    "One of the first things we learn as programmers is how to print out information that we need for debugging. Unfortunately, when we print out an object we get a default representation that seems fairly useless."
   ]
  },
  {
   "cell_type": "code",
   "execution_count": 2,
   "metadata": {},
   "outputs": [
    {
     "name": "stdout",
     "output_type": "stream",
     "text": [
      "<__main__.Employee object at 0x000001C1AB210A00>\n"
     ]
    }
   ],
   "source": [
    "class Employee():\n",
    "  def __init__(self, name):\n",
    "    self.name = name\n",
    "argus = Employee(\"Argus Filch\")\n",
    "print(argus)"
   ]
  },
  {
   "cell_type": "markdown",
   "metadata": {},
   "source": [
    "This default string representation gives us some information, like where the class is defined and our computer’s memory address where this object is stored, but is usually not useful information to have when we are trying to debug our code.\n",
    "\n",
    "We learned about the dunder method __init__(). Now, we will learn another dunder method called __repr__(). This is a method we can use to tell Python what we want the string representation of the class to be. __repr__() can only have one parameter, self, and must return a string.\n",
    "\n",
    "In our Employee class above, we have an instance variable called name that should be unique enough to be useful when we’re printing out an instance of the Employee class."
   ]
  },
  {
   "cell_type": "code",
   "execution_count": 22,
   "metadata": {},
   "outputs": [
    {
     "name": "stdout",
     "output_type": "stream",
     "text": [
      "Argus Filch\n"
     ]
    }
   ],
   "source": [
    "class Employee():\n",
    "  def __init__(self, name):\n",
    "    self.name = name\n",
    " \n",
    "  def __repr__(self):\n",
    "    return self.name\n",
    " \n",
    "argus = Employee(\"Argus Filch\")\n",
    "print(argus)"
   ]
  },
  {
   "cell_type": "markdown",
   "metadata": {},
   "source": [
    "We implemented the __repr__() method and had it return the .name attribute of the object. When we printed the object out it simply printed the .name of the object! Cool!"
   ]
  },
  {
   "cell_type": "code",
   "execution_count": 23,
   "metadata": {},
   "outputs": [
    {
     "name": "stdout",
     "output_type": "stream",
     "text": [
      "Circle with radius 6.0 Circle with radius 18.0 Circle with radius 5730.0\n"
     ]
    }
   ],
   "source": [
    "class Circle:\n",
    "  pi = 3.14\n",
    "  \n",
    "  def __init__(self, diameter):\n",
    "    self.radius = diameter / 2\n",
    "  \n",
    "  def area(self):\n",
    "    return self.pi * self.radius ** 2\n",
    "  \n",
    "  def circumference(self):\n",
    "    return self.pi * 2 * self.radius\n",
    "  def __repr__(self):\n",
    "    return \"Circle with radius {}\".format(self.radius)\n",
    "  \n",
    "medium_pizza = Circle(12)\n",
    "teaching_table = Circle(36)\n",
    "round_room = Circle(11460)\n",
    "print(medium_pizza, teaching_table, round_room)"
   ]
  },
  {
   "cell_type": "markdown",
   "metadata": {},
   "source": [
    "\n",
    "\n",
    "\n",
    "\n",
    "\n",
    "\n",
    "\n",
    "\n",
    "\n",
    "\n",
    "\n",
    "\n",
    "\n",
    "\n",
    "\n",
    "\n"
   ]
  },
  {
   "cell_type": "markdown",
   "metadata": {},
   "source": [
    "## Review\n",
    "So far we’ve covered what a data type actually is in Python. We explored what the functionality of Python’s built-in types (also referred to as primitives) are. We learned how to create our own data types using the class keyword.\n",
    "\n"
   ]
  },
  {
   "cell_type": "code",
   "execution_count": 1,
   "metadata": {},
   "outputs": [
    {
     "name": "stdout",
     "output_type": "stream",
     "text": [
      "My name is Pieter Bruegel the Elder and I am in year 8.\n",
      "These are my grades: [100, 75, 85]\n",
      "My grade average is: 86.666667\n",
      "I am passing! :)\n",
      "Attendance Record: {'2/6/2021': True, '2/5/2021': False, '2/7/2021': True}\n",
      "I have 1 absence/s recorded.\n",
      "\n",
      "My name is Sandro Botticelli and I am in year 12.\n",
      "These are my grades: [90, 80, 95, 75, 65, 50, 45, 40, 35]\n",
      "My grade average is: 63.888889\n",
      "I am failing! :(\n",
      "Attendance Record: {'2/6/2021': True, '2/5/2021': True, '2/7/2021': True}\n",
      "I have perfect attendance!\n",
      "\n",
      "My name is Roger van der Weyden and I am in year 10.\n",
      "These are my grades: [95, 66, 78, 89, 98]\n",
      "My grade average is: 85.200000\n",
      "I am passing! :)\n",
      "Attendance Record: {'2/6/2021': False, '2/5/2021': False, '2/7/2021': True}\n",
      "I have 2 absence/s recorded.\n",
      "\n"
     ]
    }
   ],
   "source": [
    "class Student:\n",
    "  def __init__(self, name, year):\n",
    "    self.name = name\n",
    "    self.year = year\n",
    "    self.grades = []\n",
    "    self.attendance = {}\n",
    "    \n",
    "  def add_grade(self, grade):\n",
    "    if type(grade) == Grade:\n",
    "      self.grades.append(grade.score)\n",
    "    return grade\n",
    "  \n",
    "  def get_avg(self):\n",
    "    total_grades = 0\n",
    "    minimum_passing = 65\n",
    "    for score in self.grades:\n",
    "     total_grades += score\n",
    "     average = total_grades/len(self.grades)\n",
    "    if average >= minimum_passing:\n",
    "      return \"My grade average is: {:1f}\\nI am passing! :)\".format(average)\n",
    "    else:\n",
    "      return \"My grade average is: {:1f}\\nI am failing! :(\".format(average)\n",
    "\n",
    "  def add_attendance(self, date, record):\n",
    "    self.attendance[date] = record\n",
    "    \n",
    "  def get_attendance(self):\n",
    "    attendance = []\n",
    "    for x in self.attendance.values():  \n",
    "        attendance.append(int(x))\n",
    "    for x in attendance:\n",
    "      if sum(attendance) == len(self.attendance):\n",
    "        return \"I have perfect attendance!\"\n",
    "      else:\n",
    "        return \"I have {} absence/s recorded.\".format(attendance.count(0))\n",
    "  \n",
    "  def __repr__(self):\n",
    "    return \"My name is {} and I am in year {}.\\nThese are my grades: {}\\n{}\\nAttendance Record: {}\\n{}\\n\".format(self.name, self.year, self.grades, self.get_avg(), self.attendance, self.get_attendance())\n",
    "\n",
    "class Grade:\n",
    "  minimum_passing = 65\n",
    "  def __init__(self, score):\n",
    "    self.score = score\n",
    "\n",
    "  def passing_score(grade):\n",
    "    minimum_passing = 65\n",
    "    if grade >= minimum_passing:\n",
    "      return \"This is a passing score!\"\n",
    "    else:\n",
    "      return \"You are failing!\"\n",
    "          \n",
    "roger = Student(\"Roger van der Weyden\", 10)\n",
    "sandro = Student(\"Sandro Botticelli\", 12)    \n",
    "pieter = Student(\"Pieter Bruegel the Elder\", 8)\n",
    "\n",
    "pieter.add_grade(Grade(100))\n",
    "pieter.add_grade(Grade(75))\n",
    "pieter.add_grade(Grade(85))\n",
    "\n",
    "sandro_grades = [90, 80, 95, 75, 65, 50, 45, 40, 35]\n",
    "roger_grades = [95, 66, 78, 89, 98]\n",
    "\n",
    "for x in sandro_grades:\n",
    "    sandro.add_grade(Grade(x))\n",
    "for x in roger_grades:\n",
    "    roger.add_grade(Grade(x))\n",
    "    \n",
    "pieter_attendance = [('2/6/2021', True), ('2/5/2021', False), ('2/7/2021', True)]\n",
    "sandro_attendance = [('2/6/2021', True), ('2/5/2021', True), ('2/7/2021', True)]\n",
    "roger_attendance = [('2/6/2021', False), ('2/5/2021', False), ('2/7/2021', True)]\n",
    "\n",
    "for x in list(pieter_attendance):\n",
    "    date = x[0]\n",
    "    record = x[1]\n",
    "    pieter.add_attendance(date, record)\n",
    "for x in list(sandro_attendance):\n",
    "    date = x[0]\n",
    "    record = x[1]\n",
    "    sandro.add_attendance(date, record)\n",
    "for x in list(roger_attendance):\n",
    "    date = x[0]\n",
    "    record = x[1]\n",
    "    roger.add_attendance(date, record)\n",
    "    \n",
    "print(pieter)\n",
    "print(sandro)\n",
    "print(roger)\n",
    "#print(Grade.passing_score(56))"
   ]
  },
  {
   "cell_type": "markdown",
   "metadata": {},
   "source": [
    "We explored the relationship between a class and an object — we create objects when we instantiate a class, we find the class when we check the type() of an object. We learned the difference between class variables (the same for all objects of a class) and instance variables (unique for each object).\n",
    "\n",
    "We learned about how to define an object’s functionality with methods. We created multiple objects from the same class, all with similar functionality, but with different internal data. They all had the same methods, but produced different output because they were different instances.\n",
    "\n",
    "Take a moment to congratulate yourself, object-oriented programming is a complicated concept!!\n",
    "\n",
    "\n",
    "\n",
    "* Write a Grade method .is_passing() that returns whether a Grade has a passing .score.  DONE\n",
    "* Write a Student method get_average() that returns the student’s average score. DONE\n",
    "* Add an instance variable to Student that is a dictionary called .attendance, with dates as keys and booleans as values that indicate whether the student attended school that day.  DONE\n",
    "* Write your own classes to do whatever logic you want!"
   ]
  },
  {
   "cell_type": "code",
   "execution_count": null,
   "metadata": {},
   "outputs": [],
   "source": []
  }
 ],
 "metadata": {
  "kernelspec": {
   "display_name": "Python 3",
   "language": "python",
   "name": "python3"
  },
  "language_info": {
   "codemirror_mode": {
    "name": "ipython",
    "version": 3
   },
   "file_extension": ".py",
   "mimetype": "text/x-python",
   "name": "python",
   "nbconvert_exporter": "python",
   "pygments_lexer": "ipython3",
   "version": "3.8.5"
  }
 },
 "nbformat": 4,
 "nbformat_minor": 4
}
